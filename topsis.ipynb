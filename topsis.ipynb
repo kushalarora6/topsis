{
  "nbformat": 4,
  "nbformat_minor": 0,
  "metadata": {
    "colab": {
      "provenance": [],
      "authorship_tag": "ABX9TyPIS5SZNZsqQbE3kLoVC9A3",
      "include_colab_link": true
    },
    "kernelspec": {
      "name": "python3",
      "display_name": "Python 3"
    },
    "language_info": {
      "name": "python"
    }
  },
  "cells": [
    {
      "cell_type": "markdown",
      "metadata": {
        "id": "view-in-github",
        "colab_type": "text"
      },
      "source": [
        "<a href=\"https://colab.research.google.com/github/kushalarora6/topsis/blob/main/topsis.ipynb\" target=\"_parent\"><img src=\"https://colab.research.google.com/assets/colab-badge.svg\" alt=\"Open In Colab\"/></a>"
      ]
    },
    {
      "cell_type": "code",
      "execution_count": null,
      "metadata": {
        "id": "Lx2FPzjrLYeU"
      },
      "outputs": [],
      "source": [
        "from topsis import topsis\n",
        "\n",
        "# Example data\n",
        "data = [[...], [...], ...]  # Your decision matrix\n",
        "weights = [...]  # Weights for each criterion\n",
        "impacts = [...]  # Impacts for each criterion\n",
        "\n",
        "# Run TOPSIS\n",
        "result = topsis(data, weights, impacts)\n",
        "print(result)"
      ]
    }
  ]
}